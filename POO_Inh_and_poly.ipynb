{
  "nbformat": 4,
  "nbformat_minor": 0,
  "metadata": {
    "colab": {
      "provenance": []
    },
    "kernelspec": {
      "name": "python3",
      "display_name": "Python 3"
    },
    "language_info": {
      "name": "python"
    }
  },
  "cells": [
    {
      "cell_type": "markdown",
      "source": [
        "#Inheritance and polymorphism in pyhton"
      ],
      "metadata": {
        "id": "lUnt8jSqwoTz"
      }
    },
    {
      "cell_type": "code",
      "source": [],
      "metadata": {
        "id": "WU7c-JcSwoo4"
      },
      "execution_count": null,
      "outputs": []
    },
    {
      "cell_type": "code",
      "execution_count": null,
      "metadata": {
        "id": "SDR6bfqFrdJf"
      },
      "outputs": [],
      "source": []
    },
    {
      "cell_type": "code",
      "source": [
        "class Animal ():\n",
        "\n",
        "#Objeto al que se le asingarán disntitos atributos\n",
        "#def es el inicializador de la clase\n",
        "    def __init__(self):\n",
        "      print(\"Animal class creada\")\n",
        "\n",
        "    def guess_who(self):\n",
        "       print(\"Soy un animalito\")\n",
        "\n",
        "    def sleep (self):\n",
        "       print(\"Estoy durmiendo\")"
      ],
      "metadata": {
        "id": "fq2PtHPwrfiu"
      },
      "execution_count": 6,
      "outputs": []
    },
    {
      "cell_type": "code",
      "source": [
        "#Cursores\n",
        "my_animal =Animal()"
      ],
      "metadata": {
        "colab": {
          "base_uri": "https://localhost:8080/"
        },
        "id": "rbvb5qM_rztd",
        "outputId": "3b9ee29c-40ff-4bfd-8459-6fb05b074bb3"
      },
      "execution_count": 9,
      "outputs": [
        {
          "output_type": "stream",
          "name": "stdout",
          "text": [
            "Animal class creada\n"
          ]
        }
      ]
    },
    {
      "cell_type": "code",
      "source": [
        "#Ingresar la función \"sleep \" a la clase\n",
        "my_animal.sleep()\n"
      ],
      "metadata": {
        "colab": {
          "base_uri": "https://localhost:8080/"
        },
        "id": "_XbqG3TCuJ1o",
        "outputId": "47d2cda1-108c-4154-8c7c-884063d8d80a"
      },
      "execution_count": 10,
      "outputs": [
        {
          "output_type": "stream",
          "name": "stdout",
          "text": [
            "Estoy durmiendo\n"
          ]
        }
      ]
    },
    {
      "cell_type": "code",
      "source": [
        "#esta nueva clase se obtiene a partir de la clase anterior o (clase maestra) subordinados a esta\n",
        "class Cat(Animal):\n",
        "#el punto sirve para adjuntar todo de las funciones\n",
        "    def __init__(self): #inicilaizar funciones dentro de la clase Cat\n",
        "      Animal.__init__(self) #inicializar la clase maestra dentro de la subordinada\n",
        "      print (\"Cat class creada \")\n",
        "\n",
        "    def guess_who(self):\n",
        "        print(\"Soy un gatito\")\n",
        "\n",
        "    def meow (self):\n",
        "        print (\"MEOW!\")\n"
      ],
      "metadata": {
        "id": "z1ROxp1muNnx"
      },
      "execution_count": 19,
      "outputs": []
    },
    {
      "cell_type": "code",
      "source": [
        "my_cat = Cat()"
      ],
      "metadata": {
        "colab": {
          "base_uri": "https://localhost:8080/"
        },
        "id": "_9imqlzqw4c3",
        "outputId": "76d925d6-1661-412f-eb54-ce10286cd77c"
      },
      "execution_count": 20,
      "outputs": [
        {
          "output_type": "stream",
          "name": "stdout",
          "text": [
            "Animal class creada\n",
            "Cat class creada \n"
          ]
        }
      ]
    },
    {
      "cell_type": "code",
      "source": [
        "my_cat.guess_who()"
      ],
      "metadata": {
        "colab": {
          "base_uri": "https://localhost:8080/"
        },
        "id": "w4X_tYQvw9Xi",
        "outputId": "6f92c763-4730-439d-8e38-59069be4871a"
      },
      "execution_count": 21,
      "outputs": [
        {
          "output_type": "stream",
          "name": "stdout",
          "text": [
            "Soy un gatito\n"
          ]
        }
      ]
    },
    {
      "cell_type": "code",
      "source": [
        "my_cat.meow()"
      ],
      "metadata": {
        "colab": {
          "base_uri": "https://localhost:8080/"
        },
        "id": "z379PcQDxOgD",
        "outputId": "42b9ebe7-69ed-4f89-818d-24f2115c5c95"
      },
      "execution_count": 22,
      "outputs": [
        {
          "output_type": "stream",
          "name": "stdout",
          "text": [
            "MEOW!\n"
          ]
        }
      ]
    },
    {
      "cell_type": "markdown",
      "source": [
        "#Polymorphism"
      ],
      "metadata": {
        "id": "A6uLnEywxcFu"
      }
    },
    {
      "cell_type": "code",
      "source": [
        "from os import name\n",
        "class Doggy ():\n",
        "\n",
        "    def __init__(self,name):\n",
        "        self.name = name\n",
        "    def speak(self):\n",
        "        return self.name + \"dice WOOF\""
      ],
      "metadata": {
        "id": "1DFXefzexXsd"
      },
      "execution_count": 42,
      "outputs": []
    },
    {
      "cell_type": "code",
      "source": [
        "class Caty():\n",
        "\n",
        "      def __init__(self, name, raza):\n",
        "         self.name = name\n",
        "         self.raza = raza\n",
        "      def speak(self):\n",
        "         return self.name + \"dice MEOW\""
      ],
      "metadata": {
        "id": "3qawvzAIyskv"
      },
      "execution_count": 53,
      "outputs": []
    },
    {
      "cell_type": "code",
      "source": [
        "my_dog = Doggy(\"dAKOTA\")"
      ],
      "metadata": {
        "id": "CF6ZSFL3zTXK"
      },
      "execution_count": 50,
      "outputs": []
    },
    {
      "cell_type": "code",
      "source": [
        "my_dog.speak()"
      ],
      "metadata": {
        "colab": {
          "base_uri": "https://localhost:8080/",
          "height": 35
        },
        "id": "29TC-Rhz1yoZ",
        "outputId": "b00a4eeb-2b2a-4e59-ea19-9771c302a6fc"
      },
      "execution_count": 51,
      "outputs": [
        {
          "output_type": "execute_result",
          "data": {
            "text/plain": [
              "'dAKOTAdice WOOF'"
            ],
            "application/vnd.google.colaboratory.intrinsic+json": {
              "type": "string"
            }
          },
          "metadata": {},
          "execution_count": 51
        }
      ]
    },
    {
      "cell_type": "code",
      "source": [
        "cat = Caty(\"Miau\", \"Egipcio\")"
      ],
      "metadata": {
        "id": "RBSr1XSEz0ep"
      },
      "execution_count": 55,
      "outputs": []
    },
    {
      "cell_type": "code",
      "source": [
        "cat.speak()"
      ],
      "metadata": {
        "colab": {
          "base_uri": "https://localhost:8080/",
          "height": 35
        },
        "id": "Bu4rDuocz5T6",
        "outputId": "60808e56-200b-4772-802a-f61b9fbbd8f1"
      },
      "execution_count": 56,
      "outputs": [
        {
          "output_type": "execute_result",
          "data": {
            "text/plain": [
              "'Miaudice MEOW'"
            ],
            "application/vnd.google.colaboratory.intrinsic+json": {
              "type": "string"
            }
          },
          "metadata": {},
          "execution_count": 56
        }
      ]
    },
    {
      "cell_type": "code",
      "source": [],
      "metadata": {
        "id": "XirhQ_Ws2Ng4"
      },
      "execution_count": null,
      "outputs": []
    }
  ]
}