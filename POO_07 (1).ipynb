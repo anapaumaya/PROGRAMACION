{
  "nbformat": 4,
  "nbformat_minor": 0,
  "metadata": {
    "colab": {
      "provenance": []
    },
    "kernelspec": {
      "name": "python3",
      "display_name": "Python 3"
    },
    "language_info": {
      "name": "python"
    }
  },
  "cells": [
    {
      "cell_type": "markdown",
      "source": [],
      "metadata": {
        "id": "rqb_69MYc1Yh"
      }
    },
    {
      "cell_type": "code",
      "source": [],
      "metadata": {
        "id": "6_6lYc_wYdUs"
      },
      "execution_count": null,
      "outputs": []
    },
    {
      "cell_type": "markdown",
      "source": [],
      "metadata": {
        "id": "X5UX0L0qdT2p"
      }
    },
    {
      "cell_type": "code",
      "execution_count": 9,
      "metadata": {
        "colab": {
          "base_uri": "https://localhost:8080/"
        },
        "id": "B0MpZ7wmcuTh",
        "outputId": "936f0b3d-eaa9-4ae9-e6cb-03b1bf6fbb56"
      },
      "outputs": [
        {
          "output_type": "stream",
          "name": "stdout",
          "text": [
            "La letra es A\n"
          ]
        }
      ],
      "source": [
        "#Se  tiene que definir la letra para poder usar la formula if y elif para ver si\n",
        "#El if funciona para establecer ver si el valor es verdadero\n",
        "#Elif funciona para agregar formulas del if\n",
        "#La formula else es que pasaría se su cumple alguna de las dos funciones\n",
        "if letra ==\"B\":\n",
        "  print(\"La letra es B\")\n",
        "elif  letra==\"C\":\n",
        "  print(\"La letra es C\")\n",
        "elif  letra==\"A\":\n",
        "  print(\"La letra es A\")\n",
        "else:\n",
        "  print(\"La letra no es A ni B ni C\")\n"
      ]
    },
    {
      "cell_type": "markdown",
      "source": [
        "Ejemplo 2"
      ],
      "metadata": {
        "id": "G6ClTlb8dr27"
      }
    },
    {
      "cell_type": "code",
      "source": [
        "#Ejemplo de como se utilizarian las formulas\n",
        "numero=input(\"Escribe un numero \")"
      ],
      "metadata": {
        "colab": {
          "base_uri": "https://localhost:8080/"
        },
        "id": "hPGe15hNdtNs",
        "outputId": "23cca908-1a39-4abf-ebd9-7182e71e6ca4"
      },
      "execution_count": 6,
      "outputs": [
        {
          "name": "stdout",
          "output_type": "stream",
          "text": [
            "Escribe un numero 7\n"
          ]
        }
      ]
    },
    {
      "cell_type": "code",
      "source": [
        "numero = int(input(\"Escribe un numero: \"))\n",
        "\n",
        "if numero % 2 == 0 and numero%4   != 0:\n",
        "  print(f\"{numero} es multiplo de dos\")\n",
        "elif numero % 4 == 0:\n",
        "  print (f\"{numero} es multiplo de cuatro y de dos \")\n",
        "else:\n",
        "  print(f\"{numero} no es multplo de dos\")"
      ],
      "metadata": {
        "colab": {
          "base_uri": "https://localhost:8080/"
        },
        "id": "ZU1n2boUebtK",
        "outputId": "36754d91-a89c-4838-eabd-6db57347ca42"
      },
      "execution_count": 15,
      "outputs": [
        {
          "output_type": "stream",
          "name": "stdout",
          "text": [
            "Escribe un numero: 4\n",
            "4 es multiplo de cuatro y de dos \n"
          ]
        }
      ]
    },
    {
      "cell_type": "code",
      "source": [
        "#Ejemplo 2\n",
        "#Aqui se ve si la persona puede entrar a la montañarusa respecto a su altura"
      ],
      "metadata": {
        "id": "TiamspMqlEv_"
      },
      "execution_count": null,
      "outputs": []
    },
    {
      "cell_type": "code",
      "source": [
        "altura = float(input(\"Cual es us altura para la montañarusa \"))\n",
        "\n",
        "if altura < 1.5 and 1.90> altura:\n",
        "  print(f\"{altura} no podra pasar a la montañarusa \")\n",
        "elif altura > 1.55:\n",
        "  print (f\"{altura} puede pasar  \")\n",
        "else:\n",
        "  print(f\"{altura} puede pasar a la montañarusa, disfrute\")"
      ],
      "metadata": {
        "colab": {
          "base_uri": "https://localhost:8080/"
        },
        "id": "iAUrsqlshYix",
        "outputId": "388ad369-c854-46a5-dfc5-95cd86c8c8b3"
      },
      "execution_count": 24,
      "outputs": [
        {
          "output_type": "stream",
          "name": "stdout",
          "text": [
            "Cual es us altura para la montañarusa 1.57\n",
            "1.57 puede pasar  \n"
          ]
        }
      ]
    },
    {
      "cell_type": "code",
      "source": [],
      "metadata": {
        "id": "0SInenI9lSyl"
      },
      "execution_count": null,
      "outputs": []
    }
  ]
}